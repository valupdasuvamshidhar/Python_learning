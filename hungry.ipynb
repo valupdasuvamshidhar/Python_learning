{
 "cells": [
  {
   "cell_type": "code",
   "execution_count": 1,
   "id": "31c3880d",
   "metadata": {},
   "outputs": [
    {
     "name": "stdout",
     "output_type": "stream",
     "text": [
      "hey dude\n"
     ]
    }
   ],
   "source": [
    "print(\"hey dude\")"
   ]
  },
  {
   "cell_type": "markdown",
   "id": "2bef3745",
   "metadata": {},
   "source": [
    "### 4th December class\n"
   ]
  },
  {
   "cell_type": "code",
   "execution_count": 3,
   "id": "5d4269f1",
   "metadata": {},
   "outputs": [
    {
     "name": "stdout",
     "output_type": "stream",
     "text": [
      "Awesome Analytics\n"
     ]
    }
   ],
   "source": [
    "#my 1st class code\n",
    "print(\"Awesome Analytics\")"
   ]
  },
  {
   "cell_type": "markdown",
   "id": "be7fe096",
   "metadata": {},
   "source": [
    "### Variable"
   ]
  },
  {
   "cell_type": "code",
   "execution_count": 7,
   "id": "1ad91893",
   "metadata": {},
   "outputs": [
    {
     "name": "stdout",
     "output_type": "stream",
     "text": [
      "['vamshi', 'hithesh', 'tej']\n"
     ]
    }
   ],
   "source": [
    "name=['vamshi','hithesh','tej']\n",
    "print(name)"
   ]
  },
  {
   "cell_type": "code",
   "execution_count": 9,
   "id": "798deca7",
   "metadata": {},
   "outputs": [
    {
     "name": "stdout",
     "output_type": "stream",
     "text": [
      "[1, 2, 3]\n"
     ]
    }
   ],
   "source": [
    "vamshi=[1,2,3]\n",
    "print(vamshi)"
   ]
  },
  {
   "cell_type": "code",
   "execution_count": 34,
   "id": "8904e7cf",
   "metadata": {},
   "outputs": [
    {
     "name": "stdout",
     "output_type": "stream",
     "text": [
      "16\n",
      "16777216\n",
      "1.0\n",
      "0\n",
      "0\n"
     ]
    }
   ],
   "source": [
    "x=8\n",
    "y=8\n",
    "print(x+y)\n",
    "print(x**y)\n",
    "print(x/y)\n",
    "print(x%y)\n",
    "print(x-y)"
   ]
  },
  {
   "cell_type": "code",
   "execution_count": 39,
   "id": "79f3401b",
   "metadata": {},
   "outputs": [
    {
     "name": "stdout",
     "output_type": "stream",
     "text": [
      "<class 'list'>\n"
     ]
    }
   ],
   "source": [
    "x=5\n",
    "print(type(a))"
   ]
  },
  {
   "cell_type": "code",
   "execution_count": 61,
   "id": "4d4b24dc",
   "metadata": {},
   "outputs": [
    {
     "name": "stdout",
     "output_type": "stream",
     "text": [
      "dict_keys(['name1', 'age'])\n"
     ]
    }
   ],
   "source": [
    "sunny={\"name1\":['vamshi','hithesh'],\"age\":[24,23]}\n",
    "print(sunny.keys())"
   ]
  },
  {
   "cell_type": "markdown",
   "id": "d13dfcdf",
   "metadata": {},
   "source": [
    "key value items\n"
   ]
  },
  {
   "cell_type": "code",
   "execution_count": 6,
   "id": "950f8892",
   "metadata": {},
   "outputs": [
    {
     "name": "stdout",
     "output_type": "stream",
     "text": [
      "enter your name: dude\n",
      "welcome dude\n"
     ]
    }
   ],
   "source": [
    "name = input('enter your name: ')\n",
    "print('welcome', name)"
   ]
  },
  {
   "cell_type": "code",
   "execution_count": 8,
   "id": "b4d67a16",
   "metadata": {},
   "outputs": [
    {
     "name": "stdout",
     "output_type": "stream",
     "text": [
      "<class 'str'>\n"
     ]
    }
   ],
   "source": [
    "a = True\n",
    "b = 'True'\n",
    "print(type(b))"
   ]
  },
  {
   "cell_type": "code",
   "execution_count": 9,
   "id": "8c119ae7",
   "metadata": {},
   "outputs": [
    {
     "data": {
      "text/plain": [
       "int"
      ]
     },
     "execution_count": 9,
     "metadata": {},
     "output_type": "execute_result"
    }
   ],
   "source": [
    "var = 2\n",
    "type(var)"
   ]
  },
  {
   "cell_type": "code",
   "execution_count": 10,
   "id": "ddb38f32",
   "metadata": {},
   "outputs": [
    {
     "data": {
      "text/plain": [
       "2.0"
      ]
     },
     "execution_count": 10,
     "metadata": {},
     "output_type": "execute_result"
    }
   ],
   "source": [
    "float(var)"
   ]
  },
  {
   "cell_type": "code",
   "execution_count": null,
   "id": "089dbeea",
   "metadata": {},
   "outputs": [],
   "source": []
  }
 ],
 "metadata": {
  "kernelspec": {
   "display_name": "Python 3 (ipykernel)",
   "language": "python",
   "name": "python3"
  },
  "language_info": {
   "codemirror_mode": {
    "name": "ipython",
    "version": 3
   },
   "file_extension": ".py",
   "mimetype": "text/x-python",
   "name": "python",
   "nbconvert_exporter": "python",
   "pygments_lexer": "ipython3",
   "version": "3.9.7"
  }
 },
 "nbformat": 4,
 "nbformat_minor": 5
}
