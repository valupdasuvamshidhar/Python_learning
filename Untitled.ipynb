{
 "cells": [
  {
   "cell_type": "code",
   "execution_count": 1,
   "id": "b88ae0de",
   "metadata": {},
   "outputs": [
    {
     "name": "stdout",
     "output_type": "stream",
     "text": [
      "Requirement already satisfied: python-docx in c:\\users\\vamsh\\anaconda3\\lib\\site-packages (0.8.11)\n",
      "Requirement already satisfied: lxml>=2.3.2 in c:\\users\\vamsh\\anaconda3\\lib\\site-packages (from python-docx) (4.6.3)\n",
      "Requirement already satisfied: docx in c:\\users\\vamsh\\anaconda3\\lib\\site-packages (0.2.4)\n",
      "Requirement already satisfied: lxml in c:\\users\\vamsh\\anaconda3\\lib\\site-packages (from docx) (4.6.3)\n",
      "Requirement already satisfied: Pillow>=2.0 in c:\\users\\vamsh\\anaconda3\\lib\\site-packages (from docx) (8.4.0)\n",
      "Requirement already satisfied: pyresparser in c:\\users\\vamsh\\anaconda3\\lib\\site-packages (1.0.6)\n",
      "Requirement already satisfied: sortedcontainers>=2.1.0 in c:\\users\\vamsh\\anaconda3\\lib\\site-packages (from pyresparser) (2.4.0)\n",
      "Requirement already satisfied: pandas>=0.24.2 in c:\\users\\vamsh\\anaconda3\\lib\\site-packages (from pyresparser) (1.3.4)\n",
      "Requirement already satisfied: certifi>=2019.6.16 in c:\\users\\vamsh\\anaconda3\\lib\\site-packages (from pyresparser) (2021.10.8)\n",
      "Requirement already satisfied: attrs>=19.1.0 in c:\\users\\vamsh\\anaconda3\\lib\\site-packages (from pyresparser) (21.2.0)\n",
      "Requirement already satisfied: idna>=2.8 in c:\\users\\vamsh\\anaconda3\\lib\\site-packages (from pyresparser) (3.2)\n",
      "Requirement already satisfied: chardet>=3.0.4 in c:\\users\\vamsh\\anaconda3\\lib\\site-packages (from pyresparser) (4.0.0)\n",
      "Requirement already satisfied: pdfminer.six>=20181108 in c:\\users\\vamsh\\anaconda3\\lib\\site-packages (from pyresparser) (20211012)\n",
      "Requirement already satisfied: six>=1.12.0 in c:\\users\\vamsh\\anaconda3\\lib\\site-packages (from pyresparser) (1.16.0)\n",
      "Requirement already satisfied: spacy>=2.1.4 in c:\\users\\vamsh\\anaconda3\\lib\\site-packages (from pyresparser) (3.2.0)\n",
      "Requirement already satisfied: preshed>=2.0.1 in c:\\users\\vamsh\\anaconda3\\lib\\site-packages (from pyresparser) (3.0.6)\n",
      "Requirement already satisfied: cymem>=2.0.2 in c:\\users\\vamsh\\anaconda3\\lib\\site-packages (from pyresparser) (2.0.6)\n",
      "Requirement already satisfied: docx2txt>=0.7 in c:\\users\\vamsh\\anaconda3\\lib\\site-packages (from pyresparser) (0.8)\n",
      "Requirement already satisfied: numpy>=1.16.4 in c:\\users\\vamsh\\anaconda3\\lib\\site-packages (from pyresparser) (1.20.3)\n",
      "Requirement already satisfied: wasabi>=0.2.2 in c:\\users\\vamsh\\anaconda3\\lib\\site-packages (from pyresparser) (0.8.2)\n",
      "Requirement already satisfied: pycryptodome>=3.8.2 in c:\\users\\vamsh\\anaconda3\\lib\\site-packages (from pyresparser) (3.12.0)\n",
      "Requirement already satisfied: pyrsistent>=0.15.2 in c:\\users\\vamsh\\anaconda3\\lib\\site-packages (from pyresparser) (0.18.0)\n",
      "Requirement already satisfied: srsly>=0.0.7 in c:\\users\\vamsh\\anaconda3\\lib\\site-packages (from pyresparser) (2.4.2)\n",
      "Requirement already satisfied: nltk>=3.4.3 in c:\\users\\vamsh\\anaconda3\\lib\\site-packages (from pyresparser) (3.6.5)\n",
      "Requirement already satisfied: blis>=0.2.4 in c:\\users\\vamsh\\anaconda3\\lib\\site-packages (from pyresparser) (0.7.5)\n",
      "Requirement already satisfied: urllib3>=1.25.3 in c:\\users\\vamsh\\anaconda3\\lib\\site-packages (from pyresparser) (1.26.7)\n",
      "Requirement already satisfied: tqdm>=4.32.2 in c:\\users\\vamsh\\anaconda3\\lib\\site-packages (from pyresparser) (4.62.3)\n",
      "Requirement already satisfied: jsonschema>=3.0.1 in c:\\users\\vamsh\\anaconda3\\lib\\site-packages (from pyresparser) (3.2.0)\n",
      "Requirement already satisfied: requests>=2.22.0 in c:\\users\\vamsh\\anaconda3\\lib\\site-packages (from pyresparser) (2.26.0)\n",
      "Requirement already satisfied: python-dateutil>=2.8.0 in c:\\users\\vamsh\\anaconda3\\lib\\site-packages (from pyresparser) (2.8.2)\n",
      "Requirement already satisfied: pytz>=2019.1 in c:\\users\\vamsh\\anaconda3\\lib\\site-packages (from pyresparser) (2021.3)\n",
      "Requirement already satisfied: thinc>=7.0.4 in c:\\users\\vamsh\\anaconda3\\lib\\site-packages (from pyresparser) (8.0.13)\n",
      "Requirement already satisfied: setuptools in c:\\users\\vamsh\\anaconda3\\lib\\site-packages (from jsonschema>=3.0.1->pyresparser) (58.0.4)\n",
      "Requirement already satisfied: click in c:\\users\\vamsh\\anaconda3\\lib\\site-packages (from nltk>=3.4.3->pyresparser) (8.0.3)\n",
      "Requirement already satisfied: joblib in c:\\users\\vamsh\\anaconda3\\lib\\site-packages (from nltk>=3.4.3->pyresparser) (1.1.0)\n",
      "Requirement already satisfied: regex>=2021.8.3 in c:\\users\\vamsh\\anaconda3\\lib\\site-packages (from nltk>=3.4.3->pyresparser) (2021.8.3)\n",
      "Requirement already satisfied: cryptography in c:\\users\\vamsh\\anaconda3\\lib\\site-packages (from pdfminer.six>=20181108->pyresparser) (3.4.8)\n",
      "Requirement already satisfied: murmurhash<1.1.0,>=0.28.0 in c:\\users\\vamsh\\anaconda3\\lib\\site-packages (from preshed>=2.0.1->pyresparser) (1.0.6)\n",
      "Requirement already satisfied: charset-normalizer~=2.0.0 in c:\\users\\vamsh\\anaconda3\\lib\\site-packages (from requests>=2.22.0->pyresparser) (2.0.4)\n",
      "Requirement already satisfied: packaging>=20.0 in c:\\users\\vamsh\\anaconda3\\lib\\site-packages (from spacy>=2.1.4->pyresparser) (21.0)\n",
      "Requirement already satisfied: pydantic!=1.8,!=1.8.1,<1.9.0,>=1.7.4 in c:\\users\\vamsh\\anaconda3\\lib\\site-packages (from spacy>=2.1.4->pyresparser) (1.8.2)\n",
      "Requirement already satisfied: catalogue<2.1.0,>=2.0.6 in c:\\users\\vamsh\\anaconda3\\lib\\site-packages (from spacy>=2.1.4->pyresparser) (2.0.6)\n",
      "Requirement already satisfied: pathy>=0.3.5 in c:\\users\\vamsh\\anaconda3\\lib\\site-packages (from spacy>=2.1.4->pyresparser) (0.6.1)\n",
      "Requirement already satisfied: jinja2 in c:\\users\\vamsh\\anaconda3\\lib\\site-packages (from spacy>=2.1.4->pyresparser) (2.11.3)\n",
      "Requirement already satisfied: langcodes<4.0.0,>=3.2.0 in c:\\users\\vamsh\\anaconda3\\lib\\site-packages (from spacy>=2.1.4->pyresparser) (3.3.0)\n",
      "Requirement already satisfied: spacy-legacy<3.1.0,>=3.0.8 in c:\\users\\vamsh\\anaconda3\\lib\\site-packages (from spacy>=2.1.4->pyresparser) (3.0.8)\n",
      "Requirement already satisfied: typer<0.5.0,>=0.3.0 in c:\\users\\vamsh\\anaconda3\\lib\\site-packages (from spacy>=2.1.4->pyresparser) (0.4.0)\n",
      "Requirement already satisfied: spacy-loggers<2.0.0,>=1.0.0 in c:\\users\\vamsh\\anaconda3\\lib\\site-packages (from spacy>=2.1.4->pyresparser) (1.0.1)\n",
      "Requirement already satisfied: pyparsing>=2.0.2 in c:\\users\\vamsh\\anaconda3\\lib\\site-packages (from packaging>=20.0->spacy>=2.1.4->pyresparser) (3.0.4)\n",
      "Requirement already satisfied: smart-open<6.0.0,>=5.0.0 in c:\\users\\vamsh\\anaconda3\\lib\\site-packages (from pathy>=0.3.5->spacy>=2.1.4->pyresparser) (5.2.1)\n",
      "Requirement already satisfied: typing-extensions>=3.7.4.3 in c:\\users\\vamsh\\anaconda3\\lib\\site-packages (from pydantic!=1.8,!=1.8.1,<1.9.0,>=1.7.4->spacy>=2.1.4->pyresparser) (3.10.0.2)\n",
      "Requirement already satisfied: colorama in c:\\users\\vamsh\\anaconda3\\lib\\site-packages (from tqdm>=4.32.2->pyresparser) (0.4.4)\n",
      "Requirement already satisfied: cffi>=1.12 in c:\\users\\vamsh\\anaconda3\\lib\\site-packages (from cryptography->pdfminer.six>=20181108->pyresparser) (1.14.6)\n",
      "Requirement already satisfied: pycparser in c:\\users\\vamsh\\anaconda3\\lib\\site-packages (from cffi>=1.12->cryptography->pdfminer.six>=20181108->pyresparser) (2.20)\n",
      "Requirement already satisfied: MarkupSafe>=0.23 in c:\\users\\vamsh\\anaconda3\\lib\\site-packages (from jinja2->spacy>=2.1.4->pyresparser) (1.1.1)\n"
     ]
    }
   ],
   "source": [
    "! pip install python-docx\n",
    "! pip install docx\n",
    "! pip install pyresparser"
   ]
  },
  {
   "cell_type": "code",
   "execution_count": 2,
   "id": "be601b57",
   "metadata": {},
   "outputs": [
    {
     "ename": "LookupError",
     "evalue": "\n**********************************************************************\n  Resource \u001b[93mstopwords\u001b[0m not found.\n  Please use the NLTK Downloader to obtain the resource:\n\n  \u001b[31m>>> import nltk\n  >>> nltk.download('stopwords')\n  \u001b[0m\n  For more information see: https://www.nltk.org/data.html\n\n  Attempted to load \u001b[93mcorpora/stopwords\u001b[0m\n\n  Searched in:\n    - 'C:\\\\Users\\\\vamsh/nltk_data'\n    - 'C:\\\\Users\\\\vamsh\\\\anaconda3\\\\nltk_data'\n    - 'C:\\\\Users\\\\vamsh\\\\anaconda3\\\\share\\\\nltk_data'\n    - 'C:\\\\Users\\\\vamsh\\\\anaconda3\\\\lib\\\\nltk_data'\n    - 'C:\\\\Users\\\\vamsh\\\\AppData\\\\Roaming\\\\nltk_data'\n    - 'C:\\\\nltk_data'\n    - 'D:\\\\nltk_data'\n    - 'E:\\\\nltk_data'\n**********************************************************************\n",
     "output_type": "error",
     "traceback": [
      "\u001b[1;31m---------------------------------------------------------------------------\u001b[0m",
      "\u001b[1;31mLookupError\u001b[0m                               Traceback (most recent call last)",
      "\u001b[1;32m~\\anaconda3\\lib\\site-packages\\nltk\\corpus\\util.py\u001b[0m in \u001b[0;36m__load\u001b[1;34m(self)\u001b[0m\n\u001b[0;32m     83\u001b[0m                 \u001b[1;32mtry\u001b[0m\u001b[1;33m:\u001b[0m\u001b[1;33m\u001b[0m\u001b[1;33m\u001b[0m\u001b[0m\n\u001b[1;32m---> 84\u001b[1;33m                     \u001b[0mroot\u001b[0m \u001b[1;33m=\u001b[0m \u001b[0mnltk\u001b[0m\u001b[1;33m.\u001b[0m\u001b[0mdata\u001b[0m\u001b[1;33m.\u001b[0m\u001b[0mfind\u001b[0m\u001b[1;33m(\u001b[0m\u001b[1;34mf\"{self.subdir}/{zip_name}\"\u001b[0m\u001b[1;33m)\u001b[0m\u001b[1;33m\u001b[0m\u001b[1;33m\u001b[0m\u001b[0m\n\u001b[0m\u001b[0;32m     85\u001b[0m                 \u001b[1;32mexcept\u001b[0m \u001b[0mLookupError\u001b[0m\u001b[1;33m:\u001b[0m\u001b[1;33m\u001b[0m\u001b[1;33m\u001b[0m\u001b[0m\n",
      "\u001b[1;32m~\\anaconda3\\lib\\site-packages\\nltk\\data.py\u001b[0m in \u001b[0;36mfind\u001b[1;34m(resource_name, paths)\u001b[0m\n\u001b[0;32m    582\u001b[0m     \u001b[0mresource_not_found\u001b[0m \u001b[1;33m=\u001b[0m \u001b[1;34mf\"\\n{sep}\\n{msg}\\n{sep}\\n\"\u001b[0m\u001b[1;33m\u001b[0m\u001b[1;33m\u001b[0m\u001b[0m\n\u001b[1;32m--> 583\u001b[1;33m     \u001b[1;32mraise\u001b[0m \u001b[0mLookupError\u001b[0m\u001b[1;33m(\u001b[0m\u001b[0mresource_not_found\u001b[0m\u001b[1;33m)\u001b[0m\u001b[1;33m\u001b[0m\u001b[1;33m\u001b[0m\u001b[0m\n\u001b[0m\u001b[0;32m    584\u001b[0m \u001b[1;33m\u001b[0m\u001b[0m\n",
      "\u001b[1;31mLookupError\u001b[0m: \n**********************************************************************\n  Resource \u001b[93mstopwords\u001b[0m not found.\n  Please use the NLTK Downloader to obtain the resource:\n\n  \u001b[31m>>> import nltk\n  >>> nltk.download('stopwords')\n  \u001b[0m\n  For more information see: https://www.nltk.org/data.html\n\n  Attempted to load \u001b[93mcorpora/stopwords.zip/stopwords/\u001b[0m\n\n  Searched in:\n    - 'C:\\\\Users\\\\vamsh/nltk_data'\n    - 'C:\\\\Users\\\\vamsh\\\\anaconda3\\\\nltk_data'\n    - 'C:\\\\Users\\\\vamsh\\\\anaconda3\\\\share\\\\nltk_data'\n    - 'C:\\\\Users\\\\vamsh\\\\anaconda3\\\\lib\\\\nltk_data'\n    - 'C:\\\\Users\\\\vamsh\\\\AppData\\\\Roaming\\\\nltk_data'\n    - 'C:\\\\nltk_data'\n    - 'D:\\\\nltk_data'\n    - 'E:\\\\nltk_data'\n**********************************************************************\n",
      "\nDuring handling of the above exception, another exception occurred:\n",
      "\u001b[1;31mLookupError\u001b[0m                               Traceback (most recent call last)",
      "\u001b[1;32m~\\AppData\\Local\\Temp/ipykernel_15828/1855354670.py\u001b[0m in \u001b[0;36m<module>\u001b[1;34m\u001b[0m\n\u001b[1;32m----> 1\u001b[1;33m \u001b[1;32mfrom\u001b[0m \u001b[0mpyresparser\u001b[0m \u001b[1;32mimport\u001b[0m \u001b[0mResumeParser\u001b[0m\u001b[1;33m\u001b[0m\u001b[1;33m\u001b[0m\u001b[0m\n\u001b[0m\u001b[0;32m      2\u001b[0m \u001b[1;32mimport\u001b[0m \u001b[0mos\u001b[0m\u001b[1;33m\u001b[0m\u001b[1;33m\u001b[0m\u001b[0m\n\u001b[0;32m      3\u001b[0m \u001b[1;32mfrom\u001b[0m \u001b[0mdocx\u001b[0m \u001b[1;32mimport\u001b[0m \u001b[0mDocument\u001b[0m\u001b[1;33m\u001b[0m\u001b[1;33m\u001b[0m\u001b[0m\n",
      "\u001b[1;32m~\\anaconda3\\lib\\site-packages\\pyresparser\\__init__.py\u001b[0m in \u001b[0;36m<module>\u001b[1;34m\u001b[0m\n\u001b[1;32m----> 1\u001b[1;33m \u001b[1;32mfrom\u001b[0m \u001b[1;33m.\u001b[0m \u001b[1;32mimport\u001b[0m \u001b[0mutils\u001b[0m\u001b[1;33m\u001b[0m\u001b[1;33m\u001b[0m\u001b[0m\n\u001b[0m\u001b[0;32m      2\u001b[0m \u001b[1;32mfrom\u001b[0m \u001b[1;33m.\u001b[0m \u001b[1;32mimport\u001b[0m \u001b[0mconstants\u001b[0m\u001b[1;33m\u001b[0m\u001b[1;33m\u001b[0m\u001b[0m\n\u001b[0;32m      3\u001b[0m \u001b[1;32mfrom\u001b[0m \u001b[1;33m.\u001b[0m\u001b[0mresume_parser\u001b[0m \u001b[1;32mimport\u001b[0m \u001b[0mResumeParser\u001b[0m\u001b[1;33m\u001b[0m\u001b[1;33m\u001b[0m\u001b[0m\n\u001b[0;32m      4\u001b[0m \u001b[1;33m\u001b[0m\u001b[0m\n\u001b[0;32m      5\u001b[0m __all__ = [\n",
      "\u001b[1;32m~\\anaconda3\\lib\\site-packages\\pyresparser\\utils.py\u001b[0m in \u001b[0;36m<module>\u001b[1;34m\u001b[0m\n\u001b[0;32m      9\u001b[0m \u001b[1;32mfrom\u001b[0m \u001b[0mdatetime\u001b[0m \u001b[1;32mimport\u001b[0m \u001b[0mdatetime\u001b[0m\u001b[1;33m\u001b[0m\u001b[1;33m\u001b[0m\u001b[0m\n\u001b[0;32m     10\u001b[0m \u001b[1;32mfrom\u001b[0m \u001b[0mdateutil\u001b[0m \u001b[1;32mimport\u001b[0m \u001b[0mrelativedelta\u001b[0m\u001b[1;33m\u001b[0m\u001b[1;33m\u001b[0m\u001b[0m\n\u001b[1;32m---> 11\u001b[1;33m \u001b[1;32mfrom\u001b[0m \u001b[1;33m.\u001b[0m \u001b[1;32mimport\u001b[0m \u001b[0mconstants\u001b[0m \u001b[1;32mas\u001b[0m \u001b[0mcs\u001b[0m\u001b[1;33m\u001b[0m\u001b[1;33m\u001b[0m\u001b[0m\n\u001b[0m\u001b[0;32m     12\u001b[0m \u001b[1;32mfrom\u001b[0m \u001b[0mpdfminer\u001b[0m\u001b[1;33m.\u001b[0m\u001b[0mconverter\u001b[0m \u001b[1;32mimport\u001b[0m \u001b[0mTextConverter\u001b[0m\u001b[1;33m\u001b[0m\u001b[1;33m\u001b[0m\u001b[0m\n\u001b[0;32m     13\u001b[0m \u001b[1;32mfrom\u001b[0m \u001b[0mpdfminer\u001b[0m\u001b[1;33m.\u001b[0m\u001b[0mpdfinterp\u001b[0m \u001b[1;32mimport\u001b[0m \u001b[0mPDFPageInterpreter\u001b[0m\u001b[1;33m\u001b[0m\u001b[1;33m\u001b[0m\u001b[0m\n",
      "\u001b[1;32m~\\anaconda3\\lib\\site-packages\\pyresparser\\constants.py\u001b[0m in \u001b[0;36m<module>\u001b[1;34m\u001b[0m\n\u001b[0;32m     23\u001b[0m \u001b[0mYEAR\u001b[0m \u001b[1;33m=\u001b[0m \u001b[1;34mr'(((20|19)(\\d{2})))'\u001b[0m\u001b[1;33m\u001b[0m\u001b[1;33m\u001b[0m\u001b[0m\n\u001b[0;32m     24\u001b[0m \u001b[1;33m\u001b[0m\u001b[0m\n\u001b[1;32m---> 25\u001b[1;33m \u001b[0mSTOPWORDS\u001b[0m \u001b[1;33m=\u001b[0m \u001b[0mset\u001b[0m\u001b[1;33m(\u001b[0m\u001b[0mstopwords\u001b[0m\u001b[1;33m.\u001b[0m\u001b[0mwords\u001b[0m\u001b[1;33m(\u001b[0m\u001b[1;34m'english'\u001b[0m\u001b[1;33m)\u001b[0m\u001b[1;33m)\u001b[0m\u001b[1;33m\u001b[0m\u001b[1;33m\u001b[0m\u001b[0m\n\u001b[0m\u001b[0;32m     26\u001b[0m \u001b[1;33m\u001b[0m\u001b[0m\n\u001b[0;32m     27\u001b[0m RESUME_SECTIONS_PROFESSIONAL = [\n",
      "\u001b[1;32m~\\anaconda3\\lib\\site-packages\\nltk\\corpus\\util.py\u001b[0m in \u001b[0;36m__getattr__\u001b[1;34m(self, attr)\u001b[0m\n\u001b[0;32m    119\u001b[0m             \u001b[1;32mraise\u001b[0m \u001b[0mAttributeError\u001b[0m\u001b[1;33m(\u001b[0m\u001b[1;34m\"LazyCorpusLoader object has no attribute '__bases__'\"\u001b[0m\u001b[1;33m)\u001b[0m\u001b[1;33m\u001b[0m\u001b[1;33m\u001b[0m\u001b[0m\n\u001b[0;32m    120\u001b[0m \u001b[1;33m\u001b[0m\u001b[0m\n\u001b[1;32m--> 121\u001b[1;33m         \u001b[0mself\u001b[0m\u001b[1;33m.\u001b[0m\u001b[0m__load\u001b[0m\u001b[1;33m(\u001b[0m\u001b[1;33m)\u001b[0m\u001b[1;33m\u001b[0m\u001b[1;33m\u001b[0m\u001b[0m\n\u001b[0m\u001b[0;32m    122\u001b[0m         \u001b[1;31m# This looks circular, but its not, since __load() changes our\u001b[0m\u001b[1;33m\u001b[0m\u001b[1;33m\u001b[0m\u001b[0m\n\u001b[0;32m    123\u001b[0m         \u001b[1;31m# __class__ to something new:\u001b[0m\u001b[1;33m\u001b[0m\u001b[1;33m\u001b[0m\u001b[0m\n",
      "\u001b[1;32m~\\anaconda3\\lib\\site-packages\\nltk\\corpus\\util.py\u001b[0m in \u001b[0;36m__load\u001b[1;34m(self)\u001b[0m\n\u001b[0;32m     84\u001b[0m                     \u001b[0mroot\u001b[0m \u001b[1;33m=\u001b[0m \u001b[0mnltk\u001b[0m\u001b[1;33m.\u001b[0m\u001b[0mdata\u001b[0m\u001b[1;33m.\u001b[0m\u001b[0mfind\u001b[0m\u001b[1;33m(\u001b[0m\u001b[1;34mf\"{self.subdir}/{zip_name}\"\u001b[0m\u001b[1;33m)\u001b[0m\u001b[1;33m\u001b[0m\u001b[1;33m\u001b[0m\u001b[0m\n\u001b[0;32m     85\u001b[0m                 \u001b[1;32mexcept\u001b[0m \u001b[0mLookupError\u001b[0m\u001b[1;33m:\u001b[0m\u001b[1;33m\u001b[0m\u001b[1;33m\u001b[0m\u001b[0m\n\u001b[1;32m---> 86\u001b[1;33m                     \u001b[1;32mraise\u001b[0m \u001b[0me\u001b[0m\u001b[1;33m\u001b[0m\u001b[1;33m\u001b[0m\u001b[0m\n\u001b[0m\u001b[0;32m     87\u001b[0m \u001b[1;33m\u001b[0m\u001b[0m\n\u001b[0;32m     88\u001b[0m         \u001b[1;31m# Load the corpus.\u001b[0m\u001b[1;33m\u001b[0m\u001b[1;33m\u001b[0m\u001b[0m\n",
      "\u001b[1;32m~\\anaconda3\\lib\\site-packages\\nltk\\corpus\\util.py\u001b[0m in \u001b[0;36m__load\u001b[1;34m(self)\u001b[0m\n\u001b[0;32m     79\u001b[0m         \u001b[1;32melse\u001b[0m\u001b[1;33m:\u001b[0m\u001b[1;33m\u001b[0m\u001b[1;33m\u001b[0m\u001b[0m\n\u001b[0;32m     80\u001b[0m             \u001b[1;32mtry\u001b[0m\u001b[1;33m:\u001b[0m\u001b[1;33m\u001b[0m\u001b[1;33m\u001b[0m\u001b[0m\n\u001b[1;32m---> 81\u001b[1;33m                 \u001b[0mroot\u001b[0m \u001b[1;33m=\u001b[0m \u001b[0mnltk\u001b[0m\u001b[1;33m.\u001b[0m\u001b[0mdata\u001b[0m\u001b[1;33m.\u001b[0m\u001b[0mfind\u001b[0m\u001b[1;33m(\u001b[0m\u001b[1;34mf\"{self.subdir}/{self.__name}\"\u001b[0m\u001b[1;33m)\u001b[0m\u001b[1;33m\u001b[0m\u001b[1;33m\u001b[0m\u001b[0m\n\u001b[0m\u001b[0;32m     82\u001b[0m             \u001b[1;32mexcept\u001b[0m \u001b[0mLookupError\u001b[0m \u001b[1;32mas\u001b[0m \u001b[0me\u001b[0m\u001b[1;33m:\u001b[0m\u001b[1;33m\u001b[0m\u001b[1;33m\u001b[0m\u001b[0m\n\u001b[0;32m     83\u001b[0m                 \u001b[1;32mtry\u001b[0m\u001b[1;33m:\u001b[0m\u001b[1;33m\u001b[0m\u001b[1;33m\u001b[0m\u001b[0m\n",
      "\u001b[1;32m~\\anaconda3\\lib\\site-packages\\nltk\\data.py\u001b[0m in \u001b[0;36mfind\u001b[1;34m(resource_name, paths)\u001b[0m\n\u001b[0;32m    581\u001b[0m     \u001b[0msep\u001b[0m \u001b[1;33m=\u001b[0m \u001b[1;34m\"*\"\u001b[0m \u001b[1;33m*\u001b[0m \u001b[1;36m70\u001b[0m\u001b[1;33m\u001b[0m\u001b[1;33m\u001b[0m\u001b[0m\n\u001b[0;32m    582\u001b[0m     \u001b[0mresource_not_found\u001b[0m \u001b[1;33m=\u001b[0m \u001b[1;34mf\"\\n{sep}\\n{msg}\\n{sep}\\n\"\u001b[0m\u001b[1;33m\u001b[0m\u001b[1;33m\u001b[0m\u001b[0m\n\u001b[1;32m--> 583\u001b[1;33m     \u001b[1;32mraise\u001b[0m \u001b[0mLookupError\u001b[0m\u001b[1;33m(\u001b[0m\u001b[0mresource_not_found\u001b[0m\u001b[1;33m)\u001b[0m\u001b[1;33m\u001b[0m\u001b[1;33m\u001b[0m\u001b[0m\n\u001b[0m\u001b[0;32m    584\u001b[0m \u001b[1;33m\u001b[0m\u001b[0m\n\u001b[0;32m    585\u001b[0m \u001b[1;33m\u001b[0m\u001b[0m\n",
      "\u001b[1;31mLookupError\u001b[0m: \n**********************************************************************\n  Resource \u001b[93mstopwords\u001b[0m not found.\n  Please use the NLTK Downloader to obtain the resource:\n\n  \u001b[31m>>> import nltk\n  >>> nltk.download('stopwords')\n  \u001b[0m\n  For more information see: https://www.nltk.org/data.html\n\n  Attempted to load \u001b[93mcorpora/stopwords\u001b[0m\n\n  Searched in:\n    - 'C:\\\\Users\\\\vamsh/nltk_data'\n    - 'C:\\\\Users\\\\vamsh\\\\anaconda3\\\\nltk_data'\n    - 'C:\\\\Users\\\\vamsh\\\\anaconda3\\\\share\\\\nltk_data'\n    - 'C:\\\\Users\\\\vamsh\\\\anaconda3\\\\lib\\\\nltk_data'\n    - 'C:\\\\Users\\\\vamsh\\\\AppData\\\\Roaming\\\\nltk_data'\n    - 'C:\\\\nltk_data'\n    - 'D:\\\\nltk_data'\n    - 'E:\\\\nltk_data'\n**********************************************************************\n"
     ]
    }
   ],
   "source": [
    "from pyresparser import ResumeParser\n",
    "import os\n",
    "from docx import Document"
   ]
  },
  {
   "cell_type": "code",
   "execution_count": null,
   "id": "502a351a",
   "metadata": {},
   "outputs": [],
   "source": [
    "filed=input()"
   ]
  },
  {
   "cell_type": "code",
   "execution_count": null,
   "id": "c50df29d",
   "metadata": {},
   "outputs": [],
   "source": []
  }
 ],
 "metadata": {
  "kernelspec": {
   "display_name": "Python 3 (ipykernel)",
   "language": "python",
   "name": "python3"
  },
  "language_info": {
   "codemirror_mode": {
    "name": "ipython",
    "version": 3
   },
   "file_extension": ".py",
   "mimetype": "text/x-python",
   "name": "python",
   "nbconvert_exporter": "python",
   "pygments_lexer": "ipython3",
   "version": "3.9.7"
  }
 },
 "nbformat": 4,
 "nbformat_minor": 5
}
